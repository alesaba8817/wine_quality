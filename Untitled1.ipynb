{
 "cells": [
  {
   "cell_type": "code",
   "execution_count": 31,
   "metadata": {},
   "outputs": [],
   "source": [
    "import json\n",
    "import requests"
   ]
  },
  {
   "cell_type": "code",
   "execution_count": 40,
   "metadata": {},
   "outputs": [],
   "source": [
    "url = 'http://127.0.0.1:8000/predict/'"
   ]
  },
  {
   "cell_type": "code",
   "execution_count": 41,
   "metadata": {},
   "outputs": [],
   "source": [
    "myobj = {\"fixed_acidity\":7.4,\n",
    "        \"volatile_acidity\":0.7,\n",
    "        \"citric_acid\":0,\n",
    "        \"residual_sugar\":1.9,\n",
    "        \"chlorides\":0.076,\n",
    "        \"free_sulfur_dioxide\":11.0,\n",
    "        \"total_sulfur_dioxide\":34.0,\n",
    "        \"density\":0.9978,\n",
    "        \"pH\":3.51,\n",
    "        \"sulphates\":0.56,\n",
    "        \"alcohol\":9.4}"
   ]
  },
  {
   "cell_type": "code",
   "execution_count": 42,
   "metadata": {},
   "outputs": [
    {
     "data": {
      "text/plain": [
       "{'fixed_acidity': 7.4,\n",
       " 'volatile_acidity': 0.7,\n",
       " 'citric_acid': 0,\n",
       " 'residual_sugar': 1.9,\n",
       " 'chlorides': 0.076,\n",
       " 'free_sulfur_dioxide': 11.0,\n",
       " 'total_sulfur_dioxide': 34.0,\n",
       " 'density': 0.9978,\n",
       " 'pH': 3.51,\n",
       " 'sulphates': 0.56,\n",
       " 'alcohol': 9.4}"
      ]
     },
     "execution_count": 42,
     "metadata": {},
     "output_type": "execute_result"
    }
   ],
   "source": [
    "myobj"
   ]
  },
  {
   "cell_type": "code",
   "execution_count": 43,
   "metadata": {},
   "outputs": [
    {
     "data": {
      "text/plain": [
       "9.4"
      ]
     },
     "execution_count": 43,
     "metadata": {},
     "output_type": "execute_result"
    }
   ],
   "source": [
    "myobj[\"alcohol\"]"
   ]
  },
  {
   "cell_type": "code",
   "execution_count": 49,
   "metadata": {},
   "outputs": [],
   "source": [
    "with open(\"test.json\", \"r\") as j:\n",
    "    json_object = json.loads(j.read())"
   ]
  },
  {
   "cell_type": "code",
   "execution_count": 52,
   "metadata": {},
   "outputs": [
    {
     "data": {
      "text/plain": [
       "{'fixed_acidity': 7.4,\n",
       " 'volatile_acidity': 0.7,\n",
       " 'citric_acid': 0,\n",
       " 'residual_sugar': 1.9,\n",
       " 'chlorides': 0.076,\n",
       " 'free_sulfur_dioxide': 11.0,\n",
       " 'total_sulfur_dioxide': 34.0,\n",
       " 'density': 0.9978,\n",
       " 'pH': 3.51,\n",
       " 'sulphates': 0.56,\n",
       " 'alcohol': 9.4}"
      ]
     },
     "execution_count": 52,
     "metadata": {},
     "output_type": "execute_result"
    }
   ],
   "source": [
    "json_object"
   ]
  },
  {
   "cell_type": "code",
   "execution_count": 50,
   "metadata": {},
   "outputs": [],
   "source": [
    "x = requests.post(url, data = json_object)"
   ]
  },
  {
   "cell_type": "code",
   "execution_count": 51,
   "metadata": {},
   "outputs": [
    {
     "data": {
      "text/plain": [
       "{'detail': [{'loc': ['body'],\n",
       "   'msg': 'value is not a valid dict',\n",
       "   'type': 'type_error.dict'}]}"
      ]
     },
     "execution_count": 51,
     "metadata": {},
     "output_type": "execute_result"
    }
   ],
   "source": [
    "x.json()"
   ]
  },
  {
   "cell_type": "code",
   "execution_count": null,
   "metadata": {},
   "outputs": [],
   "source": []
  },
  {
   "cell_type": "code",
   "execution_count": null,
   "metadata": {},
   "outputs": [],
   "source": []
  }
 ],
 "metadata": {
  "kernelspec": {
   "display_name": "Python 3",
   "language": "python",
   "name": "python3"
  },
  "language_info": {
   "codemirror_mode": {
    "name": "ipython",
    "version": 3
   },
   "file_extension": ".py",
   "mimetype": "text/x-python",
   "name": "python",
   "nbconvert_exporter": "python",
   "pygments_lexer": "ipython3",
   "version": "3.6.3"
  }
 },
 "nbformat": 4,
 "nbformat_minor": 4
}
